{
 "cells": [
  {
   "cell_type": "code",
   "execution_count": null,
   "id": "8e9a27de",
   "metadata": {},
   "outputs": [],
   "source": [
    "import cv2\n",
    "import os\n",
    "import glob\n",
    "from tqdm import tqdm"
   ]
  },
  {
   "cell_type": "code",
   "execution_count": null,
   "id": "8eb82333",
   "metadata": {},
   "outputs": [],
   "source": [
    "path=os.getcwd()\n",
    "if not os.path.exists(path+\"/FPS\"):\n",
    "    os.mkdir(path+\"/FPS\")"
   ]
  },
  {
   "cell_type": "code",
   "execution_count": null,
   "id": "b794599a",
   "metadata": {},
   "outputs": [],
   "source": [
    "vid=glob.glob(path+\"/비디오/*.mp4\")"
   ]
  },
  {
   "cell_type": "code",
   "execution_count": null,
   "id": "a08a080c",
   "metadata": {
    "scrolled": false
   },
   "outputs": [],
   "source": [
    "for i, video in enumerate(tqdm(vid)):\n",
    "    video=cv2.VideoCapture(video)\n",
    "    if not os.path.exists(path+\"/FPS/\"+str(i)):\n",
    "        os.mkdir(path+\"/FPS/\"+str(i))\n",
    "    fps=video.get(cv2.CAP_PROP_FPS)//1+1\n",
    "    cnt=0\n",
    "    while(video.isOpened()):\n",
    "        ret,img=video.read()\n",
    "        if(int(video.get(1))%fps==0):\n",
    "            num=str(cnt).zfill(4)\n",
    "            cv2.imwrite(\"./FPS/\"+str(i)+\"/frame\"+num+\".jpg\", img)\n",
    "            #print(\"Saved: %d/\" % i +num)\n",
    "            cnt+=1\n",
    "        if(ret==False):\n",
    "            break\n",
    "    video.release()"
   ]
  },
  {
   "cell_type": "code",
   "execution_count": null,
   "id": "df3e9e39",
   "metadata": {},
   "outputs": [],
   "source": []
  }
 ],
 "metadata": {
  "kernelspec": {
   "display_name": "Python 3 (ipykernel)",
   "language": "python",
   "name": "python3"
  },
  "language_info": {
   "codemirror_mode": {
    "name": "ipython",
    "version": 3
   },
   "file_extension": ".py",
   "mimetype": "text/x-python",
   "name": "python",
   "nbconvert_exporter": "python",
   "pygments_lexer": "ipython3",
   "version": "3.9.7"
  }
 },
 "nbformat": 4,
 "nbformat_minor": 5
}
