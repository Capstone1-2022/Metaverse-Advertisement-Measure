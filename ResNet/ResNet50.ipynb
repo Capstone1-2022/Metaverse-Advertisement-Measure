{
 "cells": [
  {
   "cell_type": "code",
   "execution_count": 1,
   "metadata": {},
   "outputs": [],
   "source": [
    "import torch\n",
    "import torchvision\n",
    "from torchvision import transforms # 이미지 데이터 transform\n",
    "from torch.utils.data import DataLoader # 이미지 데이터 로더\n",
    "import os\n",
    "import glob\n",
    "import pandas as pd\n",
    "import numpy as np"
   ]
  },
  {
   "cell_type": "code",
   "execution_count": 2,
   "metadata": {},
   "outputs": [],
   "source": [
    "device = 'cuda' if torch.cuda.is_available() else 'cpu'\n",
    "torch.manual_seed(777)\n",
    "if device == 'cuda':\n",
    "  torch.cuda.manual_seed_all(777)"
   ]
  },
  {
   "cell_type": "code",
   "execution_count": 3,
   "metadata": {},
   "outputs": [
    {
     "name": "stdout",
     "output_type": "stream",
     "text": [
      "c:\\code\\test_git\\ResNet\n",
      "['test_images_1', 'test_images_2', 'test_images_3', 'test_images_4', 'train_images_1', 'train_images_2', 'train_images_3']\n"
     ]
    }
   ],
   "source": [
    "image_dir = './'\n",
    "train_path = './train'\n",
    "print(os.getcwd())\n",
    "print(os.listdir(train_path))\n",
    "num_classes = len(os.listdir(train_path))"
   ]
  },
  {
   "cell_type": "code",
   "execution_count": 4,
   "metadata": {},
   "outputs": [],
   "source": [
    "import numpy as np"
   ]
  },
  {
   "cell_type": "code",
   "execution_count": 5,
   "metadata": {},
   "outputs": [],
   "source": [
    "transform_train = transforms.Compose([\n",
    "    transforms.Resize((256, 256)), # 이미지 resize\n",
    "    transforms.RandomCrop(224), # 이미지를 랜덤으로 크롭\n",
    "    transforms.ColorJitter(brightness=0.2, contrast=0.2, saturation=0.2, hue=0.2), # 이미지 지터링(밝기, 대조, 채비, 색조)\n",
    "    transforms.RandomHorizontalFlip(p = 0.5), # p확률로 이미지 좌우반전\n",
    "    transforms.RandomVerticalFlip(p = 0.5), # p확률로 상하반전\n",
    "    transforms.ToTensor(),\n",
    "    transforms.Normalize((0.5,0.5,0.5),(0.5,0.5,0.5))\n",
    "])\n",
    "\n",
    "trainset = torchvision.datasets.ImageFolder(root=train_path, transform=transform_train)"
   ]
  },
  {
   "cell_type": "code",
   "execution_count": 6,
   "metadata": {},
   "outputs": [],
   "source": [
    "import numpy as np"
   ]
  },
  {
   "cell_type": "code",
   "execution_count": 7,
   "metadata": {},
   "outputs": [],
   "source": [
    "trainloader = DataLoader(trainset, batch_size=16,\n",
    "                            shuffle=True, num_workers=3)"
   ]
  },
  {
   "cell_type": "code",
   "execution_count": 8,
   "metadata": {},
   "outputs": [],
   "source": [
    "# import resnet\n",
    "import torchvision.models.resnet as resnet\n",
    "import torch.nn as nn\n",
    "import torch.optim as optim\n",
    "\n",
    "# 미리 정의\n",
    "conv1x1=resnet.conv1x1\n",
    "Bottleneck = resnet.Bottleneck\n",
    "BasicBlock= resnet.BasicBlock"
   ]
  },
  {
   "cell_type": "code",
   "execution_count": 9,
   "metadata": {},
   "outputs": [],
   "source": [
    "class ResNet(nn.Module):\n",
    "    \n",
    "    def __init__(self, block, layers, num_classes, zero_init_residual=True):\n",
    "        super(ResNet, self).__init__()\n",
    "        self.inplanes = 64 \n",
    "\n",
    "        self.conv1 = nn.Conv2d(3, 64, kernel_size=7, stride=2, padding=3, bias=False) \n",
    "        self.bn1 = nn.BatchNorm2d(64)\n",
    "        self.relu = nn.ReLU(inplace=True)\n",
    "        self.maxpool = nn.MaxPool2d(kernel_size=3, stride=2, padding=1)\n",
    "        \n",
    "        self.layer1 = self._make_layer(block, 64, layers[0], stride=1) # 3 반복\n",
    "        self.layer2 = self._make_layer(block, 128, layers[1], stride=2) # 4 반복\n",
    "        self.layer3 = self._make_layer(block, 256, layers[2], stride=2) # 6 반복\n",
    "        self.layer4 = self._make_layer(block, 512, layers[3], stride=2) # 3 반복\n",
    "        \n",
    "        self.avgpool = nn.AdaptiveAvgPool2d((1,1))\n",
    "        self.fc = nn.Linear(2048, num_classes)\n",
    "\n",
    "        for m in self.modules():\n",
    "            if isinstance(m, nn.Conv2d):\n",
    "                nn.init.kaiming_normal_(m.weight, mode='fan_out', nonlinearity='relu')\n",
    "            elif isinstance(m, nn.BatchNorm2d):\n",
    "                nn.init.constant_(m.weight, 1)\n",
    "                nn.init.constant_(m.bias, 0)\n",
    "\n",
    "        # Zero-initialize the last BN in each residual branch,\n",
    "        # so that the residual branch starts with zeros, and each residual block behaves like an identity.\n",
    "        # This improves the model by 0.2~0.3% according to https://arxiv.org/abs/1706.02677\n",
    "        if zero_init_residual:\n",
    "            for m in self.modules():\n",
    "                if isinstance(m, Bottleneck):\n",
    "                    nn.init.constant_(m.bn3.weight, 0)\n",
    "                elif isinstance(m, BasicBlock):\n",
    "                    nn.init.constant_(m.bn2.weight, 0)\n",
    "\n",
    "    def _make_layer(self, block, planes, blocks, stride=1): # planes -> 입력되는 채널 수\n",
    "        downsample = None\n",
    "        if stride != 1 or self.inplanes != planes * block.expansion: \n",
    "            downsample = nn.Sequential(\n",
    "                conv1x1(self.inplanes, planes * block.expansion, stride),\n",
    "                nn.BatchNorm2d(planes * block.expansion),\n",
    "            )\n",
    "\n",
    "        layers = []\n",
    "        layers.append(block(self.inplanes, planes, stride, downsample))\n",
    "        self.inplanes = planes * block.expansion\n",
    "        for _ in range(1, blocks):\n",
    "            layers.append(block(self.inplanes, planes))\n",
    "\n",
    "        return nn.Sequential(*layers)\n",
    "\n",
    "    def forward(self, x):\n",
    "        x = self.conv1(x)\n",
    "        x = self.bn1(x)\n",
    "        x = self.relu(x)\n",
    "        x = self.maxpool(x)\n",
    "\n",
    "        x = self.layer1(x)\n",
    "        x = self.layer2(x)\n",
    "        x = self.layer3(x)\n",
    "        x = self.layer4(x)\n",
    "        x = self.avgpool(x)\n",
    "        x = x.view(x.size(0), -1)\n",
    "        x = self.fc(x)\n",
    "        return x"
   ]
  },
  {
   "cell_type": "code",
   "execution_count": 10,
   "metadata": {},
   "outputs": [],
   "source": [
    "resnet50 = ResNet(resnet.Bottleneck, [3, 4, 6, 3], num_classes, True).to(device) \n",
    "# resnet50\n",
    "# 1(conv1) + 9(layer1) + 12(layer2) + 18(layer3) + 9(layer4) +1(fc)= ResNet50"
   ]
  },
  {
   "cell_type": "code",
   "execution_count": 11,
   "metadata": {},
   "outputs": [],
   "source": [
    "class Config:\n",
    "  def __init__(self, **kwargs):\n",
    "    for key, value in kwargs.items():\n",
    "      setattr(self, key, value)"
   ]
  },
  {
   "cell_type": "code",
   "execution_count": 12,
   "metadata": {},
   "outputs": [],
   "source": [
    "lr = 0.003\n",
    "optimizer = 'Adam'"
   ]
  },
  {
   "cell_type": "code",
   "execution_count": 13,
   "metadata": {},
   "outputs": [],
   "source": [
    "config = Config(\n",
    "    trainloader = trainloader,\n",
    "    model = resnet50,\n",
    "    device = device,\n",
    "    optimizer = torch.optim.Adam(resnet50.parameters(), lr=lr),\n",
    "    criterion= nn.CrossEntropyLoss().to(device),\n",
    "    globaliter = 0\n",
    ")"
   ]
  },
  {
   "cell_type": "code",
   "execution_count": 14,
   "metadata": {},
   "outputs": [
    {
     "name": "stdout",
     "output_type": "stream",
     "text": [
      "Finished Training\n"
     ]
    }
   ],
   "source": [
    "class train_test():\n",
    "      def __init__(self, config):\n",
    "        # 파라미터 인자\n",
    "        self.trainloader = config.trainloader\n",
    "        self.model = config.model\n",
    "        self.device = config.device\n",
    "        self.optimizer = config.optimizer\n",
    "        self.criterion = config.criterion\n",
    "        self.globaliter = config.globaliter\n",
    "        print(len(trainloader))\n",
    "      def train(self, epochs, log_interval):\n",
    "          self.model.train()\n",
    "          for epoch in range(1, epochs + 1 ):  # epochs 루프\n",
    "              running_loss = 0.0\n",
    "              for i, data in enumerate(self.trainloader, 0): # batch 루프\n",
    "                  # get the inputs\n",
    "                  self.globaliter += 1\n",
    "                  inputs, labels = data # input data, label 분리\n",
    "                  inputs = inputs.to(self.device)\n",
    "                  labels = labels.to(self.device)\n",
    "\n",
    "                  # 가중치 초기화 -> 이전 batch에서 계산되었던 가중치를 0으로 만들고 최적화 진행\n",
    "                  self.optimizer.zero_grad() \n",
    "\n",
    "                  # forward + backward + optimize\n",
    "                  trainoutputs = self.model(inputs)\n",
    "                  loss = self.criterion(trainoutputs, labels)\n",
    "                  loss.backward()\n",
    "                  self.optimizer.step()\n",
    "                  lr_sche.step()\n",
    "                  running_loss += loss.item()\n",
    "\n",
    "              if epoch % log_interval == 0 :\n",
    "                print('Train Epoch: {} [{}/{} ({:.0f}%)]\\tlearningLoss: {:f}\\twhole_loss: {:f} '.format(\n",
    "                        epoch, i*len(inputs), len(self.trainloader.dataset),\n",
    "                        100. * i*len(inputs) / len(self.trainloader.dataset), \n",
    "                        running_loss / log_interval,\n",
    "                        loss.item()))\n",
    "                running_loss = 0.0\n",
    "      print('Finished Training')"
   ]
  },
  {
   "cell_type": "code",
   "execution_count": 15,
   "metadata": {},
   "outputs": [
    {
     "name": "stdout",
     "output_type": "stream",
     "text": [
      "33\n"
     ]
    }
   ],
   "source": [
    "ready_to_train=train_test(config)"
   ]
  },
  {
   "cell_type": "code",
   "execution_count": 16,
   "metadata": {},
   "outputs": [
    {
     "name": "stdout",
     "output_type": "stream",
     "text": [
      "Train Epoch: 10 [416/525 (79%)]\tlearningLoss: 1.996840\twhole_loss: 0.392375 \n",
      "Train Epoch: 20 [416/525 (79%)]\tlearningLoss: 1.025900\twhole_loss: 0.232520 \n",
      "Train Epoch: 30 [416/525 (79%)]\tlearningLoss: 0.749429\twhole_loss: 0.252382 \n",
      "Train Epoch: 40 [416/525 (79%)]\tlearningLoss: 0.274407\twhole_loss: 0.043722 \n",
      "Train Epoch: 50 [416/525 (79%)]\tlearningLoss: 0.257460\twhole_loss: 0.005099 \n",
      "Train Epoch: 60 [416/525 (79%)]\tlearningLoss: 0.187436\twhole_loss: 0.038794 \n",
      "Train Epoch: 70 [416/525 (79%)]\tlearningLoss: 0.212457\twhole_loss: 0.070533 \n",
      "Train Epoch: 80 [416/525 (79%)]\tlearningLoss: 0.104051\twhole_loss: 0.034140 \n",
      "Train Epoch: 90 [416/525 (79%)]\tlearningLoss: 0.152569\twhole_loss: 0.024478 \n",
      "Train Epoch: 100 [416/525 (79%)]\tlearningLoss: 0.125111\twhole_loss: 0.004499 \n",
      "Train Epoch: 110 [416/525 (79%)]\tlearningLoss: 0.131163\twhole_loss: 0.075035 \n",
      "Train Epoch: 120 [416/525 (79%)]\tlearningLoss: 0.130535\twhole_loss: 0.074009 \n",
      "Train Epoch: 130 [416/525 (79%)]\tlearningLoss: 0.112648\twhole_loss: 0.017336 \n",
      "Train Epoch: 140 [416/525 (79%)]\tlearningLoss: 0.093399\twhole_loss: 0.003984 \n",
      "Train Epoch: 150 [416/525 (79%)]\tlearningLoss: 0.166361\twhole_loss: 0.015107 \n",
      "Train Epoch: 160 [416/525 (79%)]\tlearningLoss: 0.092429\twhole_loss: 0.001348 \n",
      "Train Epoch: 170 [416/525 (79%)]\tlearningLoss: 0.137240\twhole_loss: 0.001512 \n",
      "Train Epoch: 180 [416/525 (79%)]\tlearningLoss: 0.106800\twhole_loss: 0.042123 \n",
      "Train Epoch: 190 [416/525 (79%)]\tlearningLoss: 0.132020\twhole_loss: 0.006551 \n",
      "Train Epoch: 200 [416/525 (79%)]\tlearningLoss: 0.222136\twhole_loss: 0.265784 \n",
      "Train Epoch: 210 [416/525 (79%)]\tlearningLoss: 0.140674\twhole_loss: 0.006557 \n",
      "Train Epoch: 220 [416/525 (79%)]\tlearningLoss: 0.224872\twhole_loss: 0.046411 \n",
      "Train Epoch: 230 [416/525 (79%)]\tlearningLoss: 0.137078\twhole_loss: 0.097444 \n",
      "Train Epoch: 240 [416/525 (79%)]\tlearningLoss: 0.150923\twhole_loss: 0.127773 \n",
      "Train Epoch: 250 [416/525 (79%)]\tlearningLoss: 0.197656\twhole_loss: 0.073985 \n",
      "Train Epoch: 260 [416/525 (79%)]\tlearningLoss: 0.133337\twhole_loss: 0.007380 \n",
      "Train Epoch: 270 [416/525 (79%)]\tlearningLoss: 0.171580\twhole_loss: 0.157535 \n",
      "Train Epoch: 280 [416/525 (79%)]\tlearningLoss: 0.141855\twhole_loss: 0.024745 \n",
      "Train Epoch: 290 [416/525 (79%)]\tlearningLoss: 0.092842\twhole_loss: 0.068263 \n",
      "Train Epoch: 300 [416/525 (79%)]\tlearningLoss: 0.170621\twhole_loss: 0.058034 \n"
     ]
    }
   ],
   "source": [
    "lr_sche = optim.lr_scheduler.StepLR(config.optimizer, step_size=1000, gamma=0.2)\n",
    "epochs = 300\n",
    "log_interval = 10\n",
    "\n",
    "ready_to_train.train(epochs, log_interval)"
   ]
  },
  {
   "cell_type": "code",
   "execution_count": 17,
   "metadata": {},
   "outputs": [],
   "source": [
    "torch.save(ready_to_train.model,'resnet50.pt')"
   ]
  }
 ],
 "metadata": {
  "interpreter": {
   "hash": "234bc22530c6e9f994d25fc4d5b770d442ac956874f8a3bd69073acd29694a85"
  },
  "kernelspec": {
   "display_name": "Python 3.9.7 ('base')",
   "language": "python",
   "name": "python3"
  },
  "language_info": {
   "codemirror_mode": {
    "name": "ipython",
    "version": 3
   },
   "file_extension": ".py",
   "mimetype": "text/x-python",
   "name": "python",
   "nbconvert_exporter": "python",
   "pygments_lexer": "ipython3",
   "version": "3.9.7"
  },
  "orig_nbformat": 4
 },
 "nbformat": 4,
 "nbformat_minor": 2
}
