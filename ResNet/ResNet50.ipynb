{
 "cells": [
  {
   "cell_type": "code",
   "execution_count": 154,
   "metadata": {},
   "outputs": [],
   "source": [
    "import torch\n",
    "import torchvision\n",
    "from torchvision.transforms import transforms # 이미지 데이터 transform\n",
    "from torch.utils.data import DataLoader # 이미지 데이터 로더\n",
    "import os\n",
    "import glob"
   ]
  },
  {
   "cell_type": "code",
   "execution_count": 155,
   "metadata": {},
   "outputs": [
    {
     "name": "stdout",
     "output_type": "stream",
     "text": [
      "cuda\n"
     ]
    }
   ],
   "source": [
    "device = 'cuda' if torch.cuda.is_available() else 'cpu'\n",
    "\n",
    "torch.manual_seed(777)\n",
    "if device == 'cuda':\n",
    "  torch.cuda.manual_seed_all(777)\n",
    "print(device)"
   ]
  },
  {
   "cell_type": "code",
   "execution_count": 156,
   "metadata": {},
   "outputs": [
    {
     "name": "stdout",
     "output_type": "stream",
     "text": [
      "/mnt/c/code/ResNet\n",
      "['.git', 'ResNet50.ipynb', 'ResNet50_2.ipynb', 'test', 'train']\n"
     ]
    }
   ],
   "source": [
    "image_dir = './'\n",
    "train_path = './train'\n",
    "test_path = './test'\n",
    "print(os.getcwd())\n",
    "print(os.listdir(image_dir))"
   ]
  },
  {
   "cell_type": "code",
   "execution_count": 157,
   "metadata": {},
   "outputs": [],
   "source": [
    "resize_trans = transforms.Compose([\n",
    "                                   transforms.Resize((224,224)),\n",
    "                                   transforms.ToTensor()\n",
    "])\n",
    "resize_train = torchvision.datasets.ImageFolder(root = train_path, transform=resize_trans)\n",
    "resize_test = torchvision.datasets.ImageFolder(root = test_path, transform=resize_trans)"
   ]
  },
  {
   "cell_type": "code",
   "execution_count": 158,
   "metadata": {},
   "outputs": [
    {
     "data": {
      "text/plain": [
       "torch.Size([3, 224, 224])"
      ]
     },
     "execution_count": 158,
     "metadata": {},
     "output_type": "execute_result"
    }
   ],
   "source": [
    "resize_train[0][0].shape"
   ]
  },
  {
   "cell_type": "code",
   "execution_count": 159,
   "metadata": {},
   "outputs": [
    {
     "data": {
      "text/plain": [
       "tensor([[[0.8157, 0.8157, 0.8157,  ..., 0.7922, 0.7961, 0.8000],\n",
       "         [0.8157, 0.8157, 0.8196,  ..., 0.8000, 0.8039, 0.7961],\n",
       "         [0.8196, 0.8196, 0.8235,  ..., 0.7961, 0.8000, 0.8039],\n",
       "         ...,\n",
       "         [0.3294, 0.3294, 0.3294,  ..., 0.3216, 0.3216, 0.3216],\n",
       "         [0.2471, 0.2471, 0.2471,  ..., 0.2392, 0.2392, 0.2392],\n",
       "         [0.0000, 0.0000, 0.0000,  ..., 0.0000, 0.0000, 0.0000]],\n",
       "\n",
       "        [[0.8314, 0.8314, 0.8314,  ..., 0.9216, 0.9137, 0.9098],\n",
       "         [0.8314, 0.8314, 0.8314,  ..., 0.9333, 0.9294, 0.9216],\n",
       "         [0.8353, 0.8353, 0.8353,  ..., 0.9412, 0.9373, 0.9294],\n",
       "         ...,\n",
       "         [0.2941, 0.2941, 0.2941,  ..., 0.2863, 0.2863, 0.2863],\n",
       "         [0.2196, 0.2196, 0.2196,  ..., 0.2157, 0.2157, 0.2157],\n",
       "         [0.0000, 0.0000, 0.0000,  ..., 0.0000, 0.0000, 0.0000]],\n",
       "\n",
       "        [[0.5333, 0.5333, 0.5333,  ..., 0.6314, 0.6314, 0.6314],\n",
       "         [0.5333, 0.5333, 0.5333,  ..., 0.6510, 0.6471, 0.6392],\n",
       "         [0.5373, 0.5373, 0.5373,  ..., 0.6549, 0.6471, 0.6392],\n",
       "         ...,\n",
       "         [0.2941, 0.2941, 0.2941,  ..., 0.2902, 0.2902, 0.2902],\n",
       "         [0.2196, 0.2196, 0.2196,  ..., 0.2157, 0.2157, 0.2157],\n",
       "         [0.0000, 0.0000, 0.0000,  ..., 0.0000, 0.0000, 0.0000]]])"
      ]
     },
     "execution_count": 159,
     "metadata": {},
     "output_type": "execute_result"
    }
   ],
   "source": [
    "resize_train[0][0]"
   ]
  },
  {
   "cell_type": "code",
   "execution_count": 160,
   "metadata": {},
   "outputs": [
    {
     "data": {
      "text/plain": [
       "array([0.41069302, 0.39221713, 0.41666004], dtype=float32)"
      ]
     },
     "execution_count": 160,
     "metadata": {},
     "output_type": "execute_result"
    }
   ],
   "source": [
    "import numpy as np\n",
    "np.mean(resize_train[0][0].numpy(),axis=(1,2)) # numpy로 바꾸고, axis = 1,2 mean으로 RGB mean/std 뽑기"
   ]
  },
  {
   "cell_type": "code",
   "execution_count": 161,
   "metadata": {},
   "outputs": [],
   "source": [
    "def get_mean_std(dataset):\n",
    "  meanRGB = [np.mean(image.numpy(), axis=(1,2)) for image,_ in dataset]\n",
    "  stdRGB = [np.std(image.numpy(), axis=(1,2)) for image,_ in dataset]\n",
    "\n",
    "  meanR = np.mean([m[0] for m in meanRGB])\n",
    "  meanG = np.mean([m[1] for m in meanRGB])\n",
    "  meanB = np.mean([m[2] for m in meanRGB])\n",
    "\n",
    "  stdR = np.mean([s[0] for s in stdRGB])\n",
    "  stdG = np.mean([s[1] for s in stdRGB])\n",
    "  stdB = np.mean([s[2] for s in stdRGB])\n",
    "\n",
    "  return [meanR, meanG, meanB], [stdR, stdG, stdB]"
   ]
  },
  {
   "cell_type": "code",
   "execution_count": 162,
   "metadata": {},
   "outputs": [
    {
     "name": "stdout",
     "output_type": "stream",
     "text": [
      "[0.32228306, 0.3132489, 0.23934957] [0.2373611, 0.23408231, 0.16941062]\n",
      "[0.41139412, 0.4154398, 0.41603127] [0.18583775, 0.20790222, 0.18237266]\n"
     ]
    }
   ],
   "source": [
    "resize_train_mean, resize_train_std = get_mean_std(resize_train)\n",
    "resize_test_mean, resize_test_std = get_mean_std(resize_test)\n",
    "print(resize_train_mean, resize_train_std)\n",
    "print(resize_test_mean, resize_test_std)"
   ]
  },
  {
   "cell_type": "code",
   "execution_count": 163,
   "metadata": {},
   "outputs": [],
   "source": [
    "transform_train = transforms.Compose([\n",
    "    transforms.Resize((224, 224)), # 이미지 resize\n",
    "    transforms.RandomCrop(210), # 이미지를 랜덤으로 크롭\n",
    "    transforms.ColorJitter(brightness=0.2, contrast=0.2, saturation=0.2, hue=0.2), # 이미지 지터링(밝기, 대조, 채비, 색조)\n",
    "    transforms.RandomHorizontalFlip(p = 0.5), # p확률로 이미지 좌우반전\n",
    "    transforms.RandomVerticalFlip(p = 0.5), # p확률로 상하반전\n",
    "    transforms.ToTensor(),\n",
    "    transforms.Normalize(resize_train_mean, resize_train_std)\n",
    "])\n",
    "\"\"\"\n",
    "transform_train = transforms.Compose([\n",
    "    transforms.Resize((224, 224)), \n",
    "    transforms.RandomCrop(210), # 이미지를 랜덤으로 크롭\n",
    "    transforms.ToTensor(),\n",
    "    transforms.Normalize(resize_train_mean, resize_train_std)\n",
    "])\n",
    "\"\"\"\n",
    "transform_test = transforms.Compose([\n",
    "    transforms.Resize((224, 224)), \n",
    "    transforms.RandomCrop(210), # 이미지를 랜덤으로 크롭\n",
    "    transforms.ToTensor(),\n",
    "    transforms.Normalize(resize_test_mean, resize_test_std)\n",
    "])\n",
    "\"\"\"\n",
    "transform_test = transforms.Compose([\n",
    "    transforms.Resize((224, 224)), # 이미지 resize\n",
    "    transforms.RandomCrop(210), # 이미지를 랜덤으로 크롭\n",
    "    transforms.ColorJitter(brightness=0.2, contrast=0.2, saturation=0.2, hue=0.2), # 이미지 지터링(밝기, 대조, 채비, 색조)\n",
    "    transforms.RandomHorizontalFlip(p = 0.5), # p확률로 이미지 좌우반전\n",
    "    transforms.RandomVerticalFlip(p = 0.5), # p확률로 상하반전\n",
    "    transforms.ToTensor(),\n",
    "    transforms.Normalize(resize_test_mean, resize_test_std)\n",
    "])\n",
    "\"\"\"\n",
    "trainset = torchvision.datasets.ImageFolder(root=train_path, transform=transform_train)\n",
    "testset = torchvision.datasets.ImageFolder(root=test_path, transform=transform_test)\n"
   ]
  },
  {
   "cell_type": "code",
   "execution_count": 164,
   "metadata": {},
   "outputs": [],
   "source": [
    "trainloader = DataLoader(trainset, batch_size=10,\n",
    "                                          shuffle=True, num_workers=0)\n",
    "\n",
    "testloader = DataLoader(testset, batch_size=10,\n",
    "                                         shuffle=False, num_workers=0)"
   ]
  },
  {
   "cell_type": "code",
   "execution_count": 165,
   "metadata": {},
   "outputs": [],
   "source": [
    "# import resnet\n",
    "import torchvision.models.resnet as resnet\n",
    "import torch.nn as nn\n",
    "import torch.optim as optim\n",
    "\n",
    "# 미리 정의\n",
    "conv1x1=resnet.conv1x1\n",
    "Bottleneck = resnet.Bottleneck\n",
    "BasicBlock= resnet.BasicBlock"
   ]
  },
  {
   "cell_type": "code",
   "execution_count": 166,
   "metadata": {},
   "outputs": [],
   "source": [
    "class ResNet(nn.Module):\n",
    "    \n",
    "    def __init__(self, block, layers, num_classes=1000, zero_init_residual=True):\n",
    "        super(ResNet, self).__init__()\n",
    "        self.inplanes = 64\n",
    "        self.dilation = 1\n",
    "\n",
    "        self.conv1 = nn.Conv2d(3, self.inplanes, kernel_size=7, stride=2, padding=3, bias=False)\n",
    "        self.bn1 = nn.BatchNorm2d(self.inplanes)\n",
    "        self.relu = nn.ReLU(inplace=True)\n",
    "        self.maxpool = nn.MaxPool2d(kernel_size=3, stride=2, padding=1)\n",
    "        \n",
    "        self.layer1 = self._make_layer(block, 64, layers[0]) # 3 반복\n",
    "        self.layer2 = self._make_layer(block, 128, layers[1], stride=2) # 4 반복\n",
    "        self.layer3 = self._make_layer(block, 256, layers[2], stride=2) # 6 반복\n",
    "        self.layer4 = self._make_layer(block, 512, layers[3], stride=2) # 3 반복\n",
    "        \n",
    "        self.avgpool = nn.AdaptiveAvgPool2d((1, 1))\n",
    "        self.fc = nn.Linear(512 * block.expansion, num_classes)\n",
    "\n",
    "        for m in self.modules():\n",
    "            if isinstance(m, nn.Conv2d):\n",
    "                nn.init.kaiming_normal_(m.weight, mode='fan_out', nonlinearity='relu')\n",
    "            elif isinstance(m, nn.BatchNorm2d):\n",
    "                nn.init.constant_(m.weight, 1)\n",
    "                nn.init.constant_(m.bias, 0)\n",
    "\n",
    "        # Zero-initialize the last BN in each residual branch,\n",
    "        # so that the residual branch starts with zeros, and each residual block behaves like an identity.\n",
    "        # This improves the model by 0.2~0.3% according to https://arxiv.org/abs/1706.02677\n",
    "        if zero_init_residual:\n",
    "            for m in self.modules():\n",
    "                if isinstance(m, Bottleneck):\n",
    "                    nn.init.constant_(m.bn3.weight, 0)\n",
    "                elif isinstance(m, BasicBlock):\n",
    "                    nn.init.constant_(m.bn2.weight, 0)\n",
    "\n",
    "    def _make_layer(self, block, planes, blocks, stride=1): # planes -> 입력되는 채널 수\n",
    "        downsample = None\n",
    "        if stride != 1 or self.inplanes != planes * block.expansion: \n",
    "            downsample = nn.Sequential(\n",
    "                conv1x1(self.inplanes, planes * block.expansion, stride),\n",
    "                nn.BatchNorm2d(planes * block.expansion),\n",
    "            )\n",
    "\n",
    "        layers = []\n",
    "        layers.append(block(self.inplanes, planes, stride, downsample))\n",
    "        self.inplanes = planes * block.expansion\n",
    "        for _ in range(1, blocks):\n",
    "            layers.append(block(self.inplanes, planes))\n",
    "\n",
    "        return nn.Sequential(*layers)\n",
    "\n",
    "    def forward(self, x):\n",
    "        x = self.conv1(x)\n",
    "        x = self.bn1(x)\n",
    "        x = self.relu(x)\n",
    "        x = self.maxpool(x)\n",
    "\n",
    "        x = self.layer1(x)\n",
    "        x = self.layer2(x)\n",
    "        x = self.layer3(x)\n",
    "        x = self.layer4(x)\n",
    "        \n",
    "        x = self.avgpool(x)\n",
    "        x = torch.flatten(x, 1)\n",
    "        x = self.fc(x)\n",
    "        \n",
    "        return x"
   ]
  },
  {
   "cell_type": "code",
   "execution_count": 167,
   "metadata": {},
   "outputs": [],
   "source": [
    "resnet50 = ResNet(resnet.Bottleneck, [3, 4, 6, 3], 3, True).to(device) \n",
    "# resnet50\n",
    "# 1(conv1) + 9(layer1) + 12(layer2) + 18(layer3) + 9(layer4) +1(fc)= ResNet50"
   ]
  },
  {
   "cell_type": "code",
   "execution_count": 168,
   "metadata": {},
   "outputs": [
    {
     "name": "stdout",
     "output_type": "stream",
     "text": [
      "----------------------------------------------------------------\n",
      "        Layer (type)               Output Shape         Param #\n",
      "================================================================\n",
      "            Conv2d-1         [-1, 64, 112, 112]           9,408\n",
      "       BatchNorm2d-2         [-1, 64, 112, 112]             128\n",
      "              ReLU-3         [-1, 64, 112, 112]               0\n",
      "         MaxPool2d-4           [-1, 64, 56, 56]               0\n",
      "            Conv2d-5           [-1, 64, 56, 56]           4,096\n",
      "       BatchNorm2d-6           [-1, 64, 56, 56]             128\n",
      "              ReLU-7           [-1, 64, 56, 56]               0\n",
      "            Conv2d-8           [-1, 64, 56, 56]          36,864\n",
      "       BatchNorm2d-9           [-1, 64, 56, 56]             128\n",
      "             ReLU-10           [-1, 64, 56, 56]               0\n",
      "           Conv2d-11          [-1, 256, 56, 56]          16,384\n",
      "      BatchNorm2d-12          [-1, 256, 56, 56]             512\n",
      "           Conv2d-13          [-1, 256, 56, 56]          16,384\n",
      "      BatchNorm2d-14          [-1, 256, 56, 56]             512\n",
      "             ReLU-15          [-1, 256, 56, 56]               0\n",
      "       Bottleneck-16          [-1, 256, 56, 56]               0\n",
      "           Conv2d-17           [-1, 64, 56, 56]          16,384\n",
      "      BatchNorm2d-18           [-1, 64, 56, 56]             128\n",
      "             ReLU-19           [-1, 64, 56, 56]               0\n",
      "           Conv2d-20           [-1, 64, 56, 56]          36,864\n",
      "      BatchNorm2d-21           [-1, 64, 56, 56]             128\n",
      "             ReLU-22           [-1, 64, 56, 56]               0\n",
      "           Conv2d-23          [-1, 256, 56, 56]          16,384\n",
      "      BatchNorm2d-24          [-1, 256, 56, 56]             512\n",
      "             ReLU-25          [-1, 256, 56, 56]               0\n",
      "       Bottleneck-26          [-1, 256, 56, 56]               0\n",
      "           Conv2d-27           [-1, 64, 56, 56]          16,384\n",
      "      BatchNorm2d-28           [-1, 64, 56, 56]             128\n",
      "             ReLU-29           [-1, 64, 56, 56]               0\n",
      "           Conv2d-30           [-1, 64, 56, 56]          36,864\n",
      "      BatchNorm2d-31           [-1, 64, 56, 56]             128\n",
      "             ReLU-32           [-1, 64, 56, 56]               0\n",
      "           Conv2d-33          [-1, 256, 56, 56]          16,384\n",
      "      BatchNorm2d-34          [-1, 256, 56, 56]             512\n",
      "             ReLU-35          [-1, 256, 56, 56]               0\n",
      "       Bottleneck-36          [-1, 256, 56, 56]               0\n",
      "           Conv2d-37          [-1, 128, 56, 56]          32,768\n",
      "      BatchNorm2d-38          [-1, 128, 56, 56]             256\n",
      "             ReLU-39          [-1, 128, 56, 56]               0\n",
      "           Conv2d-40          [-1, 128, 28, 28]         147,456\n",
      "      BatchNorm2d-41          [-1, 128, 28, 28]             256\n",
      "             ReLU-42          [-1, 128, 28, 28]               0\n",
      "           Conv2d-43          [-1, 512, 28, 28]          65,536\n",
      "      BatchNorm2d-44          [-1, 512, 28, 28]           1,024\n",
      "           Conv2d-45          [-1, 512, 28, 28]         131,072\n",
      "      BatchNorm2d-46          [-1, 512, 28, 28]           1,024\n",
      "             ReLU-47          [-1, 512, 28, 28]               0\n",
      "       Bottleneck-48          [-1, 512, 28, 28]               0\n",
      "           Conv2d-49          [-1, 128, 28, 28]          65,536\n",
      "      BatchNorm2d-50          [-1, 128, 28, 28]             256\n",
      "             ReLU-51          [-1, 128, 28, 28]               0\n",
      "           Conv2d-52          [-1, 128, 28, 28]         147,456\n",
      "      BatchNorm2d-53          [-1, 128, 28, 28]             256\n",
      "             ReLU-54          [-1, 128, 28, 28]               0\n",
      "           Conv2d-55          [-1, 512, 28, 28]          65,536\n",
      "      BatchNorm2d-56          [-1, 512, 28, 28]           1,024\n",
      "             ReLU-57          [-1, 512, 28, 28]               0\n",
      "       Bottleneck-58          [-1, 512, 28, 28]               0\n",
      "           Conv2d-59          [-1, 128, 28, 28]          65,536\n",
      "      BatchNorm2d-60          [-1, 128, 28, 28]             256\n",
      "             ReLU-61          [-1, 128, 28, 28]               0\n",
      "           Conv2d-62          [-1, 128, 28, 28]         147,456\n",
      "      BatchNorm2d-63          [-1, 128, 28, 28]             256\n",
      "             ReLU-64          [-1, 128, 28, 28]               0\n",
      "           Conv2d-65          [-1, 512, 28, 28]          65,536\n",
      "      BatchNorm2d-66          [-1, 512, 28, 28]           1,024\n",
      "             ReLU-67          [-1, 512, 28, 28]               0\n",
      "       Bottleneck-68          [-1, 512, 28, 28]               0\n",
      "           Conv2d-69          [-1, 128, 28, 28]          65,536\n",
      "      BatchNorm2d-70          [-1, 128, 28, 28]             256\n",
      "             ReLU-71          [-1, 128, 28, 28]               0\n",
      "           Conv2d-72          [-1, 128, 28, 28]         147,456\n",
      "      BatchNorm2d-73          [-1, 128, 28, 28]             256\n",
      "             ReLU-74          [-1, 128, 28, 28]               0\n",
      "           Conv2d-75          [-1, 512, 28, 28]          65,536\n",
      "      BatchNorm2d-76          [-1, 512, 28, 28]           1,024\n",
      "             ReLU-77          [-1, 512, 28, 28]               0\n",
      "       Bottleneck-78          [-1, 512, 28, 28]               0\n",
      "           Conv2d-79          [-1, 256, 28, 28]         131,072\n",
      "      BatchNorm2d-80          [-1, 256, 28, 28]             512\n",
      "             ReLU-81          [-1, 256, 28, 28]               0\n",
      "           Conv2d-82          [-1, 256, 14, 14]         589,824\n",
      "      BatchNorm2d-83          [-1, 256, 14, 14]             512\n",
      "             ReLU-84          [-1, 256, 14, 14]               0\n",
      "           Conv2d-85         [-1, 1024, 14, 14]         262,144\n",
      "      BatchNorm2d-86         [-1, 1024, 14, 14]           2,048\n",
      "           Conv2d-87         [-1, 1024, 14, 14]         524,288\n",
      "      BatchNorm2d-88         [-1, 1024, 14, 14]           2,048\n",
      "             ReLU-89         [-1, 1024, 14, 14]               0\n",
      "       Bottleneck-90         [-1, 1024, 14, 14]               0\n",
      "           Conv2d-91          [-1, 256, 14, 14]         262,144\n",
      "      BatchNorm2d-92          [-1, 256, 14, 14]             512\n",
      "             ReLU-93          [-1, 256, 14, 14]               0\n",
      "           Conv2d-94          [-1, 256, 14, 14]         589,824\n",
      "      BatchNorm2d-95          [-1, 256, 14, 14]             512\n",
      "             ReLU-96          [-1, 256, 14, 14]               0\n",
      "           Conv2d-97         [-1, 1024, 14, 14]         262,144\n",
      "      BatchNorm2d-98         [-1, 1024, 14, 14]           2,048\n",
      "             ReLU-99         [-1, 1024, 14, 14]               0\n",
      "      Bottleneck-100         [-1, 1024, 14, 14]               0\n",
      "          Conv2d-101          [-1, 256, 14, 14]         262,144\n",
      "     BatchNorm2d-102          [-1, 256, 14, 14]             512\n",
      "            ReLU-103          [-1, 256, 14, 14]               0\n",
      "          Conv2d-104          [-1, 256, 14, 14]         589,824\n",
      "     BatchNorm2d-105          [-1, 256, 14, 14]             512\n",
      "            ReLU-106          [-1, 256, 14, 14]               0\n",
      "          Conv2d-107         [-1, 1024, 14, 14]         262,144\n",
      "     BatchNorm2d-108         [-1, 1024, 14, 14]           2,048\n",
      "            ReLU-109         [-1, 1024, 14, 14]               0\n",
      "      Bottleneck-110         [-1, 1024, 14, 14]               0\n",
      "          Conv2d-111          [-1, 256, 14, 14]         262,144\n",
      "     BatchNorm2d-112          [-1, 256, 14, 14]             512\n",
      "            ReLU-113          [-1, 256, 14, 14]               0\n",
      "          Conv2d-114          [-1, 256, 14, 14]         589,824\n",
      "     BatchNorm2d-115          [-1, 256, 14, 14]             512\n",
      "            ReLU-116          [-1, 256, 14, 14]               0\n",
      "          Conv2d-117         [-1, 1024, 14, 14]         262,144\n",
      "     BatchNorm2d-118         [-1, 1024, 14, 14]           2,048\n",
      "            ReLU-119         [-1, 1024, 14, 14]               0\n",
      "      Bottleneck-120         [-1, 1024, 14, 14]               0\n",
      "          Conv2d-121          [-1, 256, 14, 14]         262,144\n",
      "     BatchNorm2d-122          [-1, 256, 14, 14]             512\n",
      "            ReLU-123          [-1, 256, 14, 14]               0\n",
      "          Conv2d-124          [-1, 256, 14, 14]         589,824\n",
      "     BatchNorm2d-125          [-1, 256, 14, 14]             512\n",
      "            ReLU-126          [-1, 256, 14, 14]               0\n",
      "          Conv2d-127         [-1, 1024, 14, 14]         262,144\n",
      "     BatchNorm2d-128         [-1, 1024, 14, 14]           2,048\n",
      "            ReLU-129         [-1, 1024, 14, 14]               0\n",
      "      Bottleneck-130         [-1, 1024, 14, 14]               0\n",
      "          Conv2d-131          [-1, 256, 14, 14]         262,144\n",
      "     BatchNorm2d-132          [-1, 256, 14, 14]             512\n",
      "            ReLU-133          [-1, 256, 14, 14]               0\n",
      "          Conv2d-134          [-1, 256, 14, 14]         589,824\n",
      "     BatchNorm2d-135          [-1, 256, 14, 14]             512\n",
      "            ReLU-136          [-1, 256, 14, 14]               0\n",
      "          Conv2d-137         [-1, 1024, 14, 14]         262,144\n",
      "     BatchNorm2d-138         [-1, 1024, 14, 14]           2,048\n",
      "            ReLU-139         [-1, 1024, 14, 14]               0\n",
      "      Bottleneck-140         [-1, 1024, 14, 14]               0\n",
      "          Conv2d-141          [-1, 512, 14, 14]         524,288\n",
      "     BatchNorm2d-142          [-1, 512, 14, 14]           1,024\n",
      "            ReLU-143          [-1, 512, 14, 14]               0\n",
      "          Conv2d-144            [-1, 512, 7, 7]       2,359,296\n",
      "     BatchNorm2d-145            [-1, 512, 7, 7]           1,024\n",
      "            ReLU-146            [-1, 512, 7, 7]               0\n",
      "          Conv2d-147           [-1, 2048, 7, 7]       1,048,576\n",
      "     BatchNorm2d-148           [-1, 2048, 7, 7]           4,096\n",
      "          Conv2d-149           [-1, 2048, 7, 7]       2,097,152\n",
      "     BatchNorm2d-150           [-1, 2048, 7, 7]           4,096\n",
      "            ReLU-151           [-1, 2048, 7, 7]               0\n",
      "      Bottleneck-152           [-1, 2048, 7, 7]               0\n",
      "          Conv2d-153            [-1, 512, 7, 7]       1,048,576\n",
      "     BatchNorm2d-154            [-1, 512, 7, 7]           1,024\n",
      "            ReLU-155            [-1, 512, 7, 7]               0\n",
      "          Conv2d-156            [-1, 512, 7, 7]       2,359,296\n",
      "     BatchNorm2d-157            [-1, 512, 7, 7]           1,024\n",
      "            ReLU-158            [-1, 512, 7, 7]               0\n",
      "          Conv2d-159           [-1, 2048, 7, 7]       1,048,576\n",
      "     BatchNorm2d-160           [-1, 2048, 7, 7]           4,096\n",
      "            ReLU-161           [-1, 2048, 7, 7]               0\n",
      "      Bottleneck-162           [-1, 2048, 7, 7]               0\n",
      "          Conv2d-163            [-1, 512, 7, 7]       1,048,576\n",
      "     BatchNorm2d-164            [-1, 512, 7, 7]           1,024\n",
      "            ReLU-165            [-1, 512, 7, 7]               0\n",
      "          Conv2d-166            [-1, 512, 7, 7]       2,359,296\n",
      "     BatchNorm2d-167            [-1, 512, 7, 7]           1,024\n",
      "            ReLU-168            [-1, 512, 7, 7]               0\n",
      "          Conv2d-169           [-1, 2048, 7, 7]       1,048,576\n",
      "     BatchNorm2d-170           [-1, 2048, 7, 7]           4,096\n",
      "            ReLU-171           [-1, 2048, 7, 7]               0\n",
      "      Bottleneck-172           [-1, 2048, 7, 7]               0\n",
      "AdaptiveAvgPool2d-173           [-1, 2048, 1, 1]               0\n",
      "          Linear-174                    [-1, 3]           6,147\n",
      "================================================================\n",
      "Total params: 23,514,179\n",
      "Trainable params: 23,514,179\n",
      "Non-trainable params: 0\n",
      "----------------------------------------------------------------\n",
      "Input size (MB): 0.57\n",
      "Forward/backward pass size (MB): 286.55\n",
      "Params size (MB): 89.70\n",
      "Estimated Total Size (MB): 376.82\n",
      "----------------------------------------------------------------\n"
     ]
    }
   ],
   "source": [
    "from torchsummary import summary\n",
    "summary(resnet50, input_size=(3, 224, 224), device=device)"
   ]
  },
  {
   "cell_type": "code",
   "execution_count": 169,
   "metadata": {},
   "outputs": [
    {
     "name": "stderr",
     "output_type": "stream",
     "text": [
      "Clipping input data to the valid range for imshow with RGB data ([0..1] for floats or [0..255] for integers).\n"
     ]
    },
    {
     "name": "stdout",
     "output_type": "stream",
     "text": [
      "torch.Size([64, 3, 7, 7])\n"
     ]
    },
    {
     "data": {
      "image/png": "[encoded data removed]",
      "text/plain": [
       "<Figure size 720x720 with 1 Axes>"
      ]
     },
     "metadata": {
      "needs_background": "light"
     },
     "output_type": "display_data"
    }
   ],
   "source": [
    "import matplotlib.pyplot as plt\n",
    "\n",
    "def imshow(img):\n",
    "    img = img / 2 + 0.5     # unnormalize\n",
    "    npimg = img.numpy()\n",
    "    plt.imshow(np.transpose(npimg, (1, 2, 0)))\n",
    "    plt.show()\n",
    "    \n",
    "for w in resnet50.parameters():\n",
    "    w = w.data.cpu()\n",
    "    print(w.shape)\n",
    "    break\n",
    "\n",
    "# 가중치 renormalization\n",
    "min_w = torch.min(w)\n",
    "w1 = (-1/(2 * min_w)) * w + 0.5\n",
    "\n",
    "# make grid to display it\n",
    "grid_size = len(w1)\n",
    "x_grid = [w1[i] for i in range(grid_size)]\n",
    "x_grid = torchvision.utils.make_grid(x_grid, nrow=6, padding=1)\n",
    "\n",
    "plt.figure(figsize=(10, 10))\n",
    "imshow(x_grid)"
   ]
  },
  {
   "cell_type": "code",
   "execution_count": 170,
   "metadata": {},
   "outputs": [],
   "source": [
    "class Config:\n",
    "  def __init__(self, **kwargs):\n",
    "    for key, value in kwargs.items():\n",
    "      setattr(self, key, value)"
   ]
  },
  {
   "cell_type": "code",
   "execution_count": 171,
   "metadata": {},
   "outputs": [],
   "source": [
    "lr = 0.0004\n",
    "epochs = 50\n",
    "optimizer = 'Adam'"
   ]
  },
  {
   "cell_type": "code",
   "execution_count": 172,
   "metadata": {},
   "outputs": [],
   "source": [
    "config = Config(\n",
    "    trainloader = trainloader,\n",
    "    testloader = testloader,\n",
    "    model = resnet50,\n",
    "    device = device,\n",
    "    optimizer = torch.optim.Adam(resnet50.parameters(), lr=lr),\n",
    "    criterion= nn.CrossEntropyLoss().to(device),\n",
    "    globaliter = 0\n",
    ")"
   ]
  },
  {
   "cell_type": "code",
   "execution_count": 173,
   "metadata": {},
   "outputs": [
    {
     "name": "stdout",
     "output_type": "stream",
     "text": [
      "Finished Training\n"
     ]
    }
   ],
   "source": [
    "class train_test():\n",
    "      def __init__(self, config):\n",
    "        # 파라미터 인자\n",
    "        self.trainloader = config.trainloader\n",
    "        self.testloader = config.testloader\n",
    "        self.model = config.model\n",
    "        self.device = config.device\n",
    "        self.optimizer = config.optimizer\n",
    "        self.criterion = config.criterion\n",
    "        self.globaliter = config.globaliter\n",
    "        print(len(trainloader))\n",
    "      def train(self, epochs, log_interval):\n",
    "          self.model.train()\n",
    "          trained_outputs = []\n",
    "          tested_outputs = []\n",
    "          for epoch in range(1, epochs + 1 ):  # epochs 루프\n",
    "              running_loss = 0.0\n",
    "              lr_sche.step()\n",
    "              for i, data in enumerate(self.trainloader, 0): # batch 루프\n",
    "                  # get the inputs\n",
    "                  self.globaliter += 1\n",
    "                  inputs, labels = data # input data, label 분리\n",
    "                  inputs = inputs.to(self.device)\n",
    "                  labels = labels.to(self.device)\n",
    "\n",
    "                  # 가중치 초기화 -> 이전 batch에서 계산되었던 가중치를 0으로 만들고 최적화 진행\n",
    "                  self.optimizer.zero_grad() \n",
    "\n",
    "                  # forward + backward + optimize\n",
    "                  outputs = self.model(inputs)\n",
    "                  trained_outputs.append(outputs.detach().cpu().numpy())\n",
    "                  loss = self.criterion(outputs, labels)\n",
    "                  loss.backward()\n",
    "                  self.optimizer.step()\n",
    "                  running_loss += loss.item()\n",
    "\n",
    "                  # 30 iteration마다 acc & loss 출력\n",
    "                  if i % log_interval == log_interval -1 : # i는 1에포크의 iteration\n",
    "                    print('Train Epoch: {} [{}/{} ({:.0f}%)]\\tlearningLoss: {:.6f}\\twhole_loss: {:.6f} '.format(\n",
    "                        epoch, i*len(inputs), len(self.trainloader.dataset),\n",
    "                        100. * i*len(inputs) / len(self.trainloader.dataset), \n",
    "                        running_loss / log_interval,\n",
    "                        loss.item()))\n",
    "                    running_loss = 0.0\n",
    "\n",
    "                    #with train_summary_writer.as_default():\n",
    "                    #    summary.scalar('loss', loss.item() , step = self.globaliter)\n",
    "              \n",
    "              with torch.no_grad():\n",
    "                  self.model.eval()\n",
    "                  correct = 0\n",
    "                  total = 0\n",
    "                  test_loss = 0\n",
    "                  acc = []\n",
    "                  for k, data in enumerate(self.testloader, 0):\n",
    "                    images, labels = data\n",
    "                    images = images.to(self.device)\n",
    "                    labels = labels.to(self.device)\n",
    "                    outputs = self.model(images)\n",
    "                    tested_outputs.append(outputs.detach().cpu().numpy())\n",
    "                    _, predicted = torch.max(outputs.data, 1)\n",
    "                    total += labels.size(0)\n",
    "                    correct += (predicted == labels).sum().item()\n",
    "                    test_loss += self.criterion(outputs, labels).item()\n",
    "                    acc.append(100 * correct/total)\n",
    "                  \n",
    "                  print('\\nTest set : Average loss:{:.4f}, Accuracy: {}/{}({:.0f}%)\\n'.format(\n",
    "                      test_loss, correct, total, 100 * correct/total\n",
    "                  ))\n",
    "                  \n",
    "                  \"\"\"\n",
    "                  with test_summary_writer.as_default():\n",
    "                      summary.scalar('loss', test_loss , step = self.globaliter)\n",
    "                      summary.scalar('accuracy', 100 * correct/total , step = self.globaliter)  \n",
    "                      if acc [k] > 60 and acc[k] > acc[k-1]:\n",
    "                         torch.save({\n",
    "                                     'epoch': epoch,\n",
    "                                     'model_state_dict': self.model.state_dict(),\n",
    "                                     'optimizer_state_dict': self.optimizer.state_dict(),\n",
    "                                     'loss': test_loss\n",
    "                                     }, PATH)\n",
    "                  \"\"\"\n",
    "          return trained_outputs, tested_outputs\n",
    "      \n",
    "      print('Finished Training')"
   ]
  },
  {
   "cell_type": "code",
   "execution_count": 174,
   "metadata": {},
   "outputs": [
    {
     "name": "stdout",
     "output_type": "stream",
     "text": [
      "5\n"
     ]
    }
   ],
   "source": [
    "ready_to_train=train_test(config)"
   ]
  },
  {
   "cell_type": "code",
   "execution_count": 175,
   "metadata": {},
   "outputs": [
    {
     "name": "stdout",
     "output_type": "stream",
     "text": [
      "Train Epoch: 1 [0/50 (0%)]\tlearningLoss: 1.299404\twhole_loss: 1.299404 \n",
      "Train Epoch: 1 [10/50 (20%)]\tlearningLoss: 0.769057\twhole_loss: 0.769057 \n",
      "Train Epoch: 1 [20/50 (40%)]\tlearningLoss: 0.410429\twhole_loss: 0.410429 \n",
      "Train Epoch: 1 [30/50 (60%)]\tlearningLoss: 0.215185\twhole_loss: 0.215185 \n",
      "Train Epoch: 1 [40/50 (80%)]\tlearningLoss: 0.123811\twhole_loss: 0.123811 \n",
      "\n",
      "Test set : Average loss:7.1602, Accuracy: 20/60(33%)\n",
      "\n",
      "Train Epoch: 2 [0/50 (0%)]\tlearningLoss: 0.620450\twhole_loss: 0.620450 \n"
     ]
    }
   ],
   "source": [
    "lr_sche = optim.lr_scheduler.StepLR(config.optimizer, step_size=20, gamma=0.5) # 20 step마다 lr조정\n",
    "epochs = 50\n",
    "log_interval = 1\n",
    "\n",
    "trainoutputs, testoutputs = ready_to_train.train(epochs, log_interval)"
   ]
  },
  {
   "cell_type": "code",
   "execution_count": null,
   "metadata": {},
   "outputs": [
    {
     "data": {
      "image/png": "[encoded data removed]",
      "text/plain": [
       "<Figure size 720x720 with 1 Axes>"
      ]
     },
     "metadata": {
      "needs_background": "light"
     },
     "output_type": "display_data"
    }
   ],
   "source": [
    "fig = plt.figure(figsize=(10,10))\n",
    "ax = fig.add_subplot(111, projection=\"3d\")\n",
    "tmp = trainoutputs\n",
    "ax.scatter(tmp[0].T, tmp[1].T, tmp[2].T, marker='x')\n",
    "\n",
    "tmp = testoutputs\n",
    "ax.scatter(tmp[0].T, tmp[1].T, tmp[2].T, marker = 'o')\n",
    "#ax.view_init(0,90)\n",
    "#ax.view_init(90,0)\n",
    "#ax.view_init(0,0)\n",
    "#ax.view_init(45,45)\n",
    "plt.show()"
   ]
  }
 ],
 "metadata": {
  "interpreter": {
   "hash": "916dbcbb3f70747c44a77c7bcd40155683ae19c65e1c03b4aa3499c5328201f1"
  },
  "kernelspec": {
   "display_name": "Python 3.8.10 64-bit",
   "language": "python",
   "name": "python3"
  },
  "language_info": {
   "codemirror_mode": {
    "name": "ipython",
    "version": 3
   },
   "file_extension": ".py",
   "mimetype": "text/x-python",
   "name": "python",
   "nbconvert_exporter": "python",
   "pygments_lexer": "ipython3",
   "version": "3.8.10"
  },
  "orig_nbformat": 4
 },
 "nbformat": 4,
 "nbformat_minor": 2
}
