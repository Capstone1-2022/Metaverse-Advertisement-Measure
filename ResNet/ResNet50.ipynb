{
 "cells": [
  {
   "cell_type": "code",
   "execution_count": null,
   "metadata": {},
   "outputs": [],
   "source": [
    "import torch\n",
    "import torchvision\n",
    "from torchvision import transforms # 이미지 데이터 transform\n",
    "from torch.utils.data import DataLoader # 이미지 데이터 로더\n",
    "import os\n",
    "import glob\n",
    "import pandas as pd\n",
    "import numpy as np\n",
    "import matplotlib.pyplot as plt\n",
    "import math"
   ]
  },
  {
   "cell_type": "code",
   "execution_count": null,
   "metadata": {},
   "outputs": [],
   "source": [
    "device = 'cuda' if torch.cuda.is_available() else 'cpu'\n",
    "\n",
    "torch.manual_seed(777)\n",
    "if device == 'cuda':\n",
    "  torch.cuda.manual_seed_all(777)"
   ]
  },
  {
   "cell_type": "code",
   "execution_count": null,
   "metadata": {},
   "outputs": [],
   "source": [
    "image_dir = './'\n",
    "train_path = './train'\n",
    "test_path = './test'\n",
    "print(os.getcwd())\n",
    "print(os.listdir(image_dir))"
   ]
  },
  {
   "cell_type": "code",
   "execution_count": null,
   "metadata": {},
   "outputs": [],
   "source": [
    "resize_trans = transforms.Compose([\n",
    "                                   transforms.Resize((128,128)),\n",
    "                                   transforms.ToTensor()\n",
    "])\n",
    "resize_train = torchvision.datasets.ImageFolder(root = train_path, transform=resize_trans)\n",
    "resize_test = torchvision.datasets.ImageFolder(root = test_path, transform=resize_trans)"
   ]
  },
  {
   "cell_type": "code",
   "execution_count": null,
   "metadata": {},
   "outputs": [],
   "source": [
    "resize_train[0][0].shape"
   ]
  },
  {
   "cell_type": "code",
   "execution_count": null,
   "metadata": {},
   "outputs": [],
   "source": [
    "resize_train[0][0]"
   ]
  },
  {
   "cell_type": "code",
   "execution_count": null,
   "metadata": {},
   "outputs": [],
   "source": [
    "def show2D(pca_score, Y, target_names):\n",
    "    plt.figure()\n",
    "    # TODO -->\n",
    "    for j in range(len(target_names)):\n",
    "        tmp1 = np.empty((0,1))\n",
    "        for i in range(len(pca_score)):\n",
    "            if(Y[i] == j):\n",
    "                tmp1 = np.append(tmp1, pca_score[i])\n",
    "        row = int(len(tmp1) / 2)\n",
    "        tmp1 = np.reshape(tmp1,(row,2))\n",
    "        plt.scatter(tmp1[:,0],tmp1[:,1])\n",
    "    plt.legend(target_names)\n",
    "    plt.title('Results', fontsize=14)\n",
    "    plt.show()"
   ]
  },
  {
   "cell_type": "code",
   "execution_count": null,
   "metadata": {},
   "outputs": [],
   "source": [
    "import numpy as np\n",
    "np.mean(resize_train[0][0].numpy(),axis=(1,2))"
   ]
  },
  {
   "cell_type": "code",
   "execution_count": null,
   "metadata": {},
   "outputs": [],
   "source": [
    "def get_mean_std(dataset):\n",
    "  meanRGB = [np.mean(image.numpy(), axis=(1,2)) for image,_ in dataset]\n",
    "  stdRGB = [np.std(image.numpy(), axis=(1,2)) for image,_ in dataset]\n",
    "\n",
    "  meanR = np.mean([m[0] for m in meanRGB])\n",
    "  meanG = np.mean([m[1] for m in meanRGB])\n",
    "  meanB = np.mean([m[2] for m in meanRGB])\n",
    "\n",
    "  stdR = np.mean([s[0] for s in stdRGB])\n",
    "  stdG = np.mean([s[1] for s in stdRGB])\n",
    "  stdB = np.mean([s[2] for s in stdRGB])\n",
    "\n",
    "  print(meanR, meanG, meanB)\n",
    "  print(stdR, stdG, stdB)\n",
    "  return [meanR, meanG, meanB], [stdR, stdG, stdB]"
   ]
  },
  {
   "cell_type": "code",
   "execution_count": null,
   "metadata": {},
   "outputs": [],
   "source": [
    "resize_train_mean, resize_train_std = get_mean_std(resize_train)\n",
    "\n",
    "resize_test_mean, resize_test_std = get_mean_std(resize_test)"
   ]
  },
  {
   "cell_type": "code",
   "execution_count": null,
   "metadata": {},
   "outputs": [],
   "source": [
    "transform_train = transforms.Compose([\n",
    "    transforms.Resize((128, 128)), # 이미지 resize\n",
    "    transforms.RandomCrop(124), # 이미지를 랜덤으로 크롭\n",
    "    transforms.ColorJitter(brightness=0.2, contrast=0.2, saturation=0.2, hue=0.2), # 이미지 지터링(밝기, 대조, 채비, 색조)\n",
    "    transforms.RandomHorizontalFlip(p = 0.5), # p확률로 이미지 좌우반전\n",
    "    transforms.RandomVerticalFlip(p = 0.5), # p확률로 상하반전\n",
    "    transforms.ToTensor(),\n",
    "    transforms.Normalize(resize_train_mean, resize_train_std)\n",
    "])\n",
    "\n",
    "transform_test = transforms.Compose([\n",
    "    transforms.Resize((128, 128)), \n",
    "    transforms.ToTensor(),\n",
    "    transforms.Normalize(resize_test_mean, resize_test_std)\n",
    "])\n",
    "\n",
    "trainset = torchvision.datasets.ImageFolder(root=train_path, transform=transform_train)\n",
    "testset = torchvision.datasets.ImageFolder(root=test_path, transform=transform_test)"
   ]
  },
  {
   "cell_type": "code",
   "execution_count": null,
   "metadata": {},
   "outputs": [],
   "source": [
    "import matplotlib.pyplot as plt\n",
    "import numpy as np\n",
    "\n",
    "%matplotlib inline\n",
    "\n",
    "def imshow(img, mean, std):\n",
    "    npimg = img.numpy()\n",
    "    img = np.transpose( npimg, (1, 2, 0) )\n",
    "    img = img * std + mean # renormalize\n",
    "    img = img.clip(0, 1)\n",
    "    plt.imshow(img)\n",
    "    plt.show()\n",
    "\n",
    "\n",
    "none_trans = torchvision.datasets.ImageFolder(root=train_path, transform=None)"
   ]
  },
  {
   "cell_type": "code",
   "execution_count": null,
   "metadata": {},
   "outputs": [],
   "source": [
    "none_trans[0][0]\n"
   ]
  },
  {
   "cell_type": "code",
   "execution_count": null,
   "metadata": {},
   "outputs": [],
   "source": [
    "imshow((trainset[0][0]),resize_train_mean,resize_train_std)"
   ]
  },
  {
   "cell_type": "code",
   "execution_count": null,
   "metadata": {},
   "outputs": [],
   "source": [
    "trainloader = torch.utils.data.DataLoader(trainset, batch_size=64,\n",
    "                                          shuffle=True, num_workers=0)\n",
    "\n",
    "testloader = torch.utils.data.DataLoader(testset, batch_size=64,\n",
    "                                         shuffle=False, num_workers=0)"
   ]
  },
  {
   "cell_type": "code",
   "execution_count": null,
   "metadata": {},
   "outputs": [],
   "source": [
    "# import resnet\n",
    "import torchvision.models.resnet as resnet\n",
    "import torch.nn as nn\n",
    "import torch.optim as optim\n",
    "\n",
    "# 미리 정의\n",
    "conv1x1=resnet.conv1x1\n",
    "Bottleneck = resnet.Bottleneck\n",
    "BasicBlock= resnet.BasicBlock"
   ]
  },
  {
   "cell_type": "code",
   "execution_count": null,
   "metadata": {},
   "outputs": [],
   "source": [
    "class ResNet(nn.Module):\n",
    "    \n",
    "    def __init__(self, block, layers, num_classes=1000, zero_init_residual=True):\n",
    "        super(ResNet, self).__init__()\n",
    "        self.inplanes = 32 # conv1에서 나올 채널의 차원 -> 이미지넷보다 작은 데이터이므로 32로 조정\n",
    "\n",
    "        # inputs = 3x128x128로 바뀜\n",
    "        self.conv1 = nn.Conv2d(3, 32, kernel_size=3, stride=1, padding=1, bias=False) # 마찬가지로 전부 사이즈 조정\n",
    "        self.bn1 = nn.BatchNorm2d(32)\n",
    "        self.relu = nn.ReLU(inplace=True)\n",
    "        self.maxpool = nn.MaxPool2d(kernel_size=3, stride=2, padding=1)\n",
    "        \n",
    "        self.layer1 = self._make_layer(block, 32, layers[0], stride=1) # 3 반복\n",
    "        self.layer2 = self._make_layer(block, 64, layers[1], stride=2) # 4 반복\n",
    "        self.layer3 = self._make_layer(block, 128, layers[2], stride=2) # 6 반복\n",
    "        self.layer4 = self._make_layer(block, 256, layers[3], stride=2) # 3 반복\n",
    "        \n",
    "        self.avgpool = nn.AdaptiveAvgPool2d((1, 1))\n",
    "        self.fc = nn.Linear(256 * block.expansion, num_classes)\n",
    "\n",
    "        for m in self.modules():\n",
    "            if isinstance(m, nn.Conv2d):\n",
    "                nn.init.kaiming_normal_(m.weight, mode='fan_out', nonlinearity='relu')\n",
    "            elif isinstance(m, nn.BatchNorm2d):\n",
    "                nn.init.constant_(m.weight, 1)\n",
    "                nn.init.constant_(m.bias, 0)\n",
    "\n",
    "        # Zero-initialize the last BN in each residual branch,\n",
    "        # so that the residual branch starts with zeros, and each residual block behaves like an identity.\n",
    "        # This improves the model by 0.2~0.3% according to https://arxiv.org/abs/1706.02677\n",
    "        if zero_init_residual:\n",
    "            for m in self.modules():\n",
    "                if isinstance(m, Bottleneck):\n",
    "                    nn.init.constant_(m.bn3.weight, 0)\n",
    "                elif isinstance(m, BasicBlock):\n",
    "                    nn.init.constant_(m.bn2.weight, 0)\n",
    "\n",
    "    def _make_layer(self, block, planes, blocks, stride=1): # planes -> 입력되는 채널 수\n",
    "        downsample = None\n",
    "        if stride != 1 or self.inplanes != planes * block.expansion: \n",
    "            downsample = nn.Sequential(\n",
    "                conv1x1(self.inplanes, planes * block.expansion, stride),\n",
    "                nn.BatchNorm2d(planes * block.expansion),\n",
    "            )\n",
    "\n",
    "        layers = []\n",
    "        layers.append(block(self.inplanes, planes, stride, downsample))\n",
    "        self.inplanes = planes * block.expansion\n",
    "        for _ in range(1, blocks):\n",
    "            layers.append(block(self.inplanes, planes))\n",
    "\n",
    "        return nn.Sequential(*layers)\n",
    "\n",
    "    def forward(self, x):\n",
    "        # input [32, 128, 128] -> [C ,H, W]\n",
    "        x = self.conv1(x)\n",
    "        x = self.bn1(x)\n",
    "        x = self.relu(x)\n",
    "        x = self.maxpool(x)\n",
    "        #x.shape =[32, 64, 64]\n",
    "\n",
    "        x = self.layer1(x)\n",
    "        #x.shape =[128, 64, 64]\n",
    "        x = self.layer2(x)\n",
    "        #x.shape =[256, 32, 32]\n",
    "        x = self.layer3(x)\n",
    "        #x.shape =[512, 16, 16]\n",
    "        x = self.layer4(x)\n",
    "        #x.shape =[1024, 8, 8]\n",
    "        x = self.avgpool(x)\n",
    "        x = x.view(x.size(0), -1)\n",
    "        x = self.fc(x)\n",
    "        return x"
   ]
  },
  {
   "cell_type": "code",
   "execution_count": null,
   "metadata": {},
   "outputs": [],
   "source": [
    "resnet50 = ResNet(resnet.Bottleneck, [3, 4, 6, 3], 3, True).to(device) \n",
    "# resnet50\n",
    "# 1(conv1) + 9(layer1) + 12(layer2) + 18(layer3) + 9(layer4) +1(fc)= ResNet50"
   ]
  },
  {
   "cell_type": "code",
   "execution_count": null,
   "metadata": {},
   "outputs": [],
   "source": [
    "from torchsummary import summary\n",
    "summary(resnet50, input_size=(3, 128, 128), device=device)"
   ]
  },
  {
   "cell_type": "code",
   "execution_count": null,
   "metadata": {},
   "outputs": [],
   "source": [
    "def imshow(img):\n",
    "    img = img / 2 + 0.5     # unnormalize\n",
    "    npimg = img.numpy()\n",
    "    plt.imshow(np.transpose(npimg, (1, 2, 0)))\n",
    "    plt.show()\n",
    "    \n",
    "for w in resnet50.parameters():\n",
    "    w = w.data.cpu()\n",
    "    print(w.shape)\n",
    "    break\n",
    "\n",
    "# 가중치 renormalization\n",
    "min_w = torch.min(w)\n",
    "w1 = (-1/(2 * min_w)) * w + 0.5\n",
    "\n",
    "# make grid to display it\n",
    "grid_size = len(w1)\n",
    "x_grid = [w1[i] for i in range(grid_size)]\n",
    "x_grid = torchvision.utils.make_grid(x_grid, nrow=6, padding=1)\n",
    "\n",
    "plt.figure(figsize=(10, 10))\n",
    "imshow(x_grid)"
   ]
  },
  {
   "cell_type": "code",
   "execution_count": null,
   "metadata": {},
   "outputs": [],
   "source": [
    "class Config:\n",
    "  def __init__(self, **kwargs):\n",
    "    for key, value in kwargs.items():\n",
    "      setattr(self, key, value)"
   ]
  },
  {
   "cell_type": "code",
   "execution_count": null,
   "metadata": {},
   "outputs": [],
   "source": [
    "lr = 0.0008\n",
    "epochs = 30\n",
    "optimizer = 'Adam'"
   ]
  },
  {
   "cell_type": "code",
   "execution_count": null,
   "metadata": {},
   "outputs": [],
   "source": [
    "config = Config(\n",
    "    trainloader = trainloader,\n",
    "    testloader = testloader,\n",
    "    model = resnet50,\n",
    "    device = device,\n",
    "    optimizer = torch.optim.Adam(resnet50.parameters(), lr=lr),\n",
    "    criterion= nn.CrossEntropyLoss().to(device),\n",
    "    globaliter = 0\n",
    ")"
   ]
  },
  {
   "cell_type": "code",
   "execution_count": null,
   "metadata": {},
   "outputs": [],
   "source": [
    "class train_test():\n",
    "      def __init__(self, config):\n",
    "        # 파라미터 인자\n",
    "        self.trainloader = config.trainloader\n",
    "        self.testloader = config.testloader\n",
    "        self.model = config.model\n",
    "        self.device = config.device\n",
    "        self.optimizer = config.optimizer\n",
    "        self.criterion = config.criterion\n",
    "        self.globaliter = config.globaliter\n",
    "        print(len(trainloader))\n",
    "      def train(self, epochs, log_interval):\n",
    "          self.model.train()\n",
    "          for epoch in range(1, epochs + 1 ):  # epochs 루프\n",
    "              running_loss = 0.0\n",
    "              lr_sche.step()\n",
    "              for i, data in enumerate(self.trainloader, 0): # batch 루프\n",
    "                  # get the inputs\n",
    "                  self.globaliter += 1\n",
    "                  inputs, labels = data # input data, label 분리\n",
    "                  inputs = inputs.to(self.device)\n",
    "                  labels = labels.to(self.device)\n",
    "\n",
    "                  # 가중치 초기화 -> 이전 batch에서 계산되었던 가중치를 0으로 만들고 최적화 진행\n",
    "                  self.optimizer.zero_grad() \n",
    "\n",
    "                  # forward + backward + optimize\n",
    "                  trainoutputs = self.model(inputs)\n",
    "                  loss = self.criterion(trainoutputs, labels)\n",
    "                  loss.backward()\n",
    "                  self.optimizer.step()\n",
    "                  running_loss += loss.item()\n",
    "\n",
    "                  # 30 iteration마다 acc & loss 출력\n",
    "                  if i % log_interval == log_interval -1 : # i는 1에포크의 iteration\n",
    "                    print('Train Epoch: {} [{}/{} ({:.0f}%)]\\tlearningLoss: {:.6f}\\twhole_loss: {:.6f} '.format(\n",
    "                        epoch, i*len(inputs), len(self.trainloader.dataset),\n",
    "                        100. * i*len(inputs) / len(self.trainloader.dataset), \n",
    "                        running_loss / log_interval,\n",
    "                        loss.item()))\n",
    "                    running_loss = 0.0\n",
    "\n",
    "                    #with train_summary_writer.as_default():\n",
    "                    #    summary.scalar('loss', loss.item() , step = self.globaliter)\n",
    "              \n",
    "              with torch.no_grad():\n",
    "                  self.model.eval()\n",
    "                  correct = 0\n",
    "                  total = 0\n",
    "                  test_loss = 0\n",
    "                  acc = []\n",
    "                  for k, data in enumerate(self.testloader, 0):\n",
    "                    images, labels = data\n",
    "                    images = images.to(self.device)\n",
    "                    labels = labels.to(self.device)\n",
    "                    outputs = self.model(images)\n",
    "                    _, predicted = torch.max(outputs.data, 1)\n",
    "                    total += labels.size(0)\n",
    "                    correct += (predicted == labels).sum().item()\n",
    "                    test_loss += self.criterion(outputs, labels).item()\n",
    "                    acc.append(100 * correct/total)\n",
    "                  \"\"\"\n",
    "                  print('\\nTest set : Average loss:{:.4f}, Accuracy: {}/{}({:.0f}%)\\n'.format(\n",
    "                      test_loss, correct, total, 100 * correct/total\n",
    "                  ))\n",
    "                  \"\"\"\n",
    "                  \"\"\"\n",
    "                  with test_summary_writer.as_default():\n",
    "                      summary.scalar('loss', test_loss , step = self.globaliter)\n",
    "                      summary.scalar('accuracy', 100 * correct/total , step = self.globaliter)  \n",
    "                      if acc [k] > 60 and acc[k] > acc[k-1]:\n",
    "                         torch.save({\n",
    "                                     'epoch': epoch,\n",
    "                                     'model_state_dict': self.model.state_dict(),\n",
    "                                     'optimizer_state_dict': self.optimizer.state_dict(),\n",
    "                                     'loss': test_loss\n",
    "                                     }, PATH)\n",
    "                  \"\"\"\n",
    "          fig = plt.figure(figsize=(6,6))\n",
    "          ax = fig.add_subplot(111, projection=\"3d\")\n",
    "          tmp = trainoutputs.detach().cpu().numpy()\n",
    "          for cur in tmp:\n",
    "                print(cur[2] / math.sqrt(cur[0]*cur[0] + cur[1]*cur[1]))\n",
    "          ax.scatter(tmp[0].T, tmp[1].T, tmp[2].T, marker='x')\n",
    "          tmp = outputs.detach().cpu().numpy()\n",
    "          for cur in tmp:\n",
    "                print(cur[2] / math.sqrt(cur[0]*cur[0] + cur[1]*cur[1]))\n",
    "          ax.scatter(tmp[0].T, tmp[1].T, tmp[2].T, marker = 'o')\n",
    "          #ax.view_init(0,90)\n",
    "          #ax.view_init(90,0)\n",
    "          #ax.view_init(0,0)\n",
    "          ax.view_init(45,45)\n",
    "          plt.show()\n",
    "      print('Finished Training')"
   ]
  },
  {
   "cell_type": "code",
   "execution_count": null,
   "metadata": {},
   "outputs": [],
   "source": [
    "ready_to_train=train_test(config)"
   ]
  },
  {
   "cell_type": "code",
   "execution_count": null,
   "metadata": {},
   "outputs": [],
   "source": [
    "lr_sche = optim.lr_scheduler.StepLR(config.optimizer, step_size=10000, gamma=0.5) # 20 step마다 lr조정\n",
    "epochs = 200\n",
    "log_interval = 175\n",
    "\n",
    "ready_to_train.train(epochs, log_interval)"
   ]
  }
 ],
 "metadata": {
  "interpreter": {
   "hash": "e7370f93d1d0cde622a1f8e1c04877d8463912d04d973331ad4851f04de6915a"
  },
  "kernelspec": {
   "display_name": "Python 3.8.10 64-bit",
   "language": "python",
   "name": "python3"
  },
  "language_info": {
   "codemirror_mode": {
    "name": "ipython",
    "version": 3
   },
   "file_extension": ".py",
   "mimetype": "text/x-python",
   "name": "python",
   "nbconvert_exporter": "python",
   "pygments_lexer": "ipython3",
   "version": "3.9.7"
  },
  "orig_nbformat": 4
 },
 "nbformat": 4,
 "nbformat_minor": 2
}
