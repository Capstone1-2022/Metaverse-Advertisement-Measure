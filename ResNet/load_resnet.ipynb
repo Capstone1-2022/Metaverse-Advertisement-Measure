{
 "cells": [
  {
   "cell_type": "code",
   "execution_count": 3,
   "metadata": {},
   "outputs": [],
   "source": [
    "import torch\n",
    "import torchvision\n",
    "\n",
    "device = \"cuda\" if torch.cuda.is_available() else \"cpu\"\n",
    "torch.cuda.manual_seed(777)\n",
    "if device == \"cuda\":\n",
    "  torch.cuda.manual_seed_all(777)\n"
   ]
  },
  {
   "cell_type": "markdown",
   "metadata": {},
   "source": [
    "ResNet50 모델의 형태를 미리 선언"
   ]
  },
  {
   "cell_type": "code",
   "execution_count": 4,
   "metadata": {},
   "outputs": [],
   "source": [
    "# import resnet\n",
    "import torchvision.models.resnet as resnet\n",
    "import torch.nn as nn\n",
    "import torch.optim as optim\n",
    "\n",
    "# 미리 정의\n",
    "conv1x1=resnet.conv1x1\n",
    "Bottleneck = resnet.Bottleneck\n",
    "BasicBlock= resnet.BasicBlock"
   ]
  },
  {
   "cell_type": "code",
   "execution_count": 5,
   "metadata": {},
   "outputs": [],
   "source": [
    "class ResNet(nn.Module):\n",
    "    \n",
    "    def __init__(self, block, layers, num_classes=10, zero_init_residual=True):\n",
    "        super(ResNet, self).__init__()\n",
    "        self.inplanes = 64 \n",
    "\n",
    "        self.conv1 = nn.Conv2d(3, 64, kernel_size=7, stride=2, padding=3, bias=False) \n",
    "        self.bn1 = nn.BatchNorm2d(64)\n",
    "        self.relu = nn.ReLU(inplace=True)\n",
    "        self.maxpool = nn.MaxPool2d(kernel_size=3, stride=2, padding=1)\n",
    "        \n",
    "        self.layer1 = self._make_layer(block, 64, layers[0], stride=1) # 3 반복\n",
    "        self.layer2 = self._make_layer(block, 128, layers[1], stride=2) # 4 반복\n",
    "        self.layer3 = self._make_layer(block, 256, layers[2], stride=2) # 6 반복\n",
    "        self.layer4 = self._make_layer(block, 512, layers[3], stride=2) # 3 반복\n",
    "        \n",
    "        self.avgpool = nn.AdaptiveAvgPool2d((1,1))\n",
    "        self.fc = nn.Linear(2048, 3)\n",
    "\n",
    "        for m in self.modules():\n",
    "            if isinstance(m, nn.Conv2d):\n",
    "                nn.init.kaiming_normal_(m.weight, mode='fan_out', nonlinearity='relu')\n",
    "            elif isinstance(m, nn.BatchNorm2d):\n",
    "                nn.init.constant_(m.weight, 1)\n",
    "                nn.init.constant_(m.bias, 0)\n",
    "\n",
    "        # Zero-initialize the last BN in each residual branch,\n",
    "        # so that the residual branch starts with zeros, and each residual block behaves like an identity.\n",
    "        # This improves the model by 0.2~0.3% according to https://arxiv.org/abs/1706.02677\n",
    "        if zero_init_residual:\n",
    "            for m in self.modules():\n",
    "                if isinstance(m, Bottleneck):\n",
    "                    nn.init.constant_(m.bn3.weight, 0)\n",
    "                elif isinstance(m, BasicBlock):\n",
    "                    nn.init.constant_(m.bn2.weight, 0)\n",
    "\n",
    "    def _make_layer(self, block, planes, blocks, stride=1): # planes -> 입력되는 채널 수\n",
    "        downsample = None\n",
    "        if stride != 1 or self.inplanes != planes * block.expansion: \n",
    "            downsample = nn.Sequential(\n",
    "                conv1x1(self.inplanes, planes * block.expansion, stride),\n",
    "                nn.BatchNorm2d(planes * block.expansion),\n",
    "            )\n",
    "\n",
    "        layers = []\n",
    "        layers.append(block(self.inplanes, planes, stride, downsample))\n",
    "        self.inplanes = planes * block.expansion\n",
    "        for _ in range(1, blocks):\n",
    "            layers.append(block(self.inplanes, planes))\n",
    "\n",
    "        return nn.Sequential(*layers)\n",
    "\n",
    "    def forward(self, x):\n",
    "        x = self.conv1(x)\n",
    "        x = self.bn1(x)\n",
    "        x = self.relu(x)\n",
    "        x = self.maxpool(x)\n",
    "\n",
    "        x = self.layer1(x)\n",
    "        x = self.layer2(x)\n",
    "        x = self.layer3(x)\n",
    "        x = self.layer4(x)\n",
    "        x = self.avgpool(x)\n",
    "        x = x.view(x.size(0), -1)\n",
    "        x = self.fc(x)\n",
    "        return x"
   ]
  },
  {
   "cell_type": "markdown",
   "metadata": {},
   "source": [
    "미리 학습시킨 parameter를 device로 로드"
   ]
  },
  {
   "cell_type": "code",
   "execution_count": 45,
   "metadata": {},
   "outputs": [],
   "source": [
    "resnet50 = ResNet(resnet.Bottleneck, [3, 4, 6, 3], 10, True).to(device) \n",
    "resnet50 = torch.load('resnet50.pt')"
   ]
  },
  {
   "cell_type": "markdown",
   "metadata": {},
   "source": [
    "test data들을 DataLoader를 통해 적절한 형태로 가공"
   ]
  },
  {
   "cell_type": "code",
   "execution_count": 46,
   "metadata": {},
   "outputs": [],
   "source": [
    "from torch.utils.data import DataLoader\n",
    "from torchvision.transforms import transforms\n",
    "\n",
    "test_path = './test'"
   ]
  },
  {
   "cell_type": "code",
   "execution_count": 47,
   "metadata": {},
   "outputs": [],
   "source": [
    "resize_trans = transforms.Compose([\n",
    "\ttransforms.Resize((256,256)),\n",
    " \ttransforms.ToTensor()\n",
    "])\n",
    "\n",
    "resize_test = torchvision.datasets.ImageFolder(root = test_path, transform = resize_trans)\n",
    "\n",
    "transform_test = transforms.Compose([\n",
    "\ttransforms.Resize((256,256)),\n",
    " \ttransforms.CenterCrop(224),\n",
    "\ttransforms.ToTensor(),\n",
    "  \ttransforms.Normalize((0.5,0.5,0.5),(0.5,0.5,0.5))\n",
    "])\n",
    "\n",
    "testset = torchvision.datasets.ImageFolder(root = test_path, transform=transform_test)\n",
    "\n",
    "testloader = DataLoader(testset, batch_size=4, shuffle=False)"
   ]
  },
  {
   "cell_type": "markdown",
   "metadata": {},
   "source": [
    "test data들을 ResNet 모델에 적용시키는 함수"
   ]
  },
  {
   "cell_type": "code",
   "execution_count": 48,
   "metadata": {},
   "outputs": [],
   "source": [
    "def get_representation(model, iterator):\n",
    "  \n",
    "  model.eval()\n",
    "  \n",
    "  outputs = []\n",
    "  labels = []\n",
    "  \n",
    "  with torch.no_grad():\n",
    "    for (x,y) in iterator:\n",
    "      \n",
    "      x = x.to(device)\n",
    "      \n",
    "      y_pred = model(x)\n",
    "      \n",
    "      outputs.append(y_pred.cpu())\n",
    "      labels.append(y)\n",
    "      \n",
    "  outputs = torch.cat(outputs, dim = 0)\n",
    "  labels = torch.cat(labels, dim = 0)\n",
    "  \n",
    "  return outputs, labels"
   ]
  },
  {
   "cell_type": "code",
   "execution_count": 49,
   "metadata": {},
   "outputs": [],
   "source": [
    "testoutputs, testlabels = get_representation(resnet50, testloader)"
   ]
  },
  {
   "cell_type": "code",
   "execution_count": 50,
   "metadata": {},
   "outputs": [],
   "source": [
    "import sklearn\n",
    "from sklearn import manifold\n",
    "import matplotlib.pyplot as plt"
   ]
  },
  {
   "cell_type": "markdown",
   "metadata": {},
   "source": [
    "test output을 2차원 좌표평면에 출력하는 함수"
   ]
  },
  {
   "cell_type": "code",
   "execution_count": 51,
   "metadata": {},
   "outputs": [],
   "source": [
    "def plot_representation(data, labels, classes=None,n_Images=None):\n",
    "  if n_Images is not None:\n",
    "    data = data[:n_Images]\n",
    "    labels = labels[:n_Images]\n",
    "    \n",
    "  fig = plt.figure(figsize = (10,10))\n",
    "  ax = fig.add_subplot(111)\n",
    "  scatter = ax.scatter(data[:,0],data[:,1])"
   ]
  },
  {
   "cell_type": "markdown",
   "metadata": {},
   "source": [
    "LinearDiscriminatAnalysis(LDA) method를 통해 test output을 2차원 데이터로 차원 축소\n",
    "testoutputs(3차원) -> output_lda(2차원)"
   ]
  },
  {
   "cell_type": "code",
   "execution_count": 52,
   "metadata": {},
   "outputs": [
    {
     "data": {
      "image/png": "[encoded data removed]",
      "text/plain": [
       "<Figure size 720x720 with 1 Axes>"
      ]
     },
     "metadata": {
      "needs_background": "light"
     },
     "output_type": "display_data"
    }
   ],
   "source": [
    "from sklearn.discriminant_analysis import LinearDiscriminantAnalysis\n",
    "from sklearn.preprocessing import StandardScaler\n",
    "\n",
    "output_scaled = StandardScaler().fit_transform(testoutputs)\n",
    "lda = LinearDiscriminantAnalysis(n_components = 2)\n",
    "lda.fit(output_scaled, testlabels)\n",
    "\n",
    "output_lda = lda.transform(output_scaled)\n",
    "plot_representation(output_lda, testlabels)"
   ]
  },
  {
   "cell_type": "markdown",
   "metadata": {},
   "source": [
    "t-SNE method를 통해 test output을 2차원으로 차원 축소\n",
    "testoutputs(3) -> output_tsne(2)"
   ]
  },
  {
   "cell_type": "code",
   "execution_count": 56,
   "metadata": {},
   "outputs": [
    {
     "data": {
      "image/png": "[encoded data removed]",
      "text/plain": [
       "<Figure size 720x720 with 1 Axes>"
      ]
     },
     "metadata": {
      "needs_background": "light"
     },
     "output_type": "display_data"
    }
   ],
   "source": [
    "output_scaled = StandardScaler().fit_transform(testoutputs)\n",
    "tsne = manifold.TSNE(n_components=2, learning_rate = 150)\n",
    "output_tsne = tsne.fit_transform(output_scaled)\n",
    "plot_representation(output_tsne, testlabels)"
   ]
  },
  {
   "cell_type": "markdown",
   "metadata": {},
   "source": [
    "차원 축소한 두 데이터를 mean-shift clustering을 통해 clustering"
   ]
  },
  {
   "cell_type": "code",
   "execution_count": 57,
   "metadata": {},
   "outputs": [
    {
     "name": "stdout",
     "output_type": "stream",
     "text": [
      "Estimated clusters : 6\n"
     ]
    },
    {
     "data": {
      "image/png": "[encoded data removed]",
      "text/plain": [
       "<Figure size 432x288 with 1 Axes>"
      ]
     },
     "metadata": {
      "needs_background": "light"
     },
     "output_type": "display_data"
    }
   ],
   "source": [
    "from typing import Text\n",
    "from sklearn.cluster import MeanShift, estimate_bandwidth\n",
    "from itertools import cycle\n",
    "\n",
    "bandwidth = estimate_bandwidth(output_lda, quantile = .1)\n",
    "ms = MeanShift(bandwidth = bandwidth + .2)\n",
    "ms.fit(output_lda)\n",
    "labels = ms.labels_\n",
    "cluster_centers = ms.cluster_centers_\n",
    "clusters = labels.max()+1\n",
    "\n",
    "color = cycle('rgbcmyk')\n",
    "for i, col in zip(range(clusters),color):\n",
    "  my_member = labels == i\n",
    "  cluster_center = cluster_centers[i]\n",
    "  plt.plot(output_lda[my_member,0], output_lda[my_member,1],col + '.')\n",
    "  plt.plot(cluster_center[0], cluster_center[1], 'o', \n",
    "           markerfacecolor = col, markeredgecolor = 'k', markersize = 12)\n",
    "print('Estimated clusters : %d' % clusters)\n",
    "  \n",
    "plt.show()"
   ]
  },
  {
   "cell_type": "code",
   "execution_count": 58,
   "metadata": {},
   "outputs": [
    {
     "name": "stdout",
     "output_type": "stream",
     "text": [
      "Estimated clusters : 7\n"
     ]
    },
    {
     "data": {
      "image/png": "[encoded data removed]",
      "text/plain": [
       "<Figure size 432x288 with 1 Axes>"
      ]
     },
     "metadata": {
      "needs_background": "light"
     },
     "output_type": "display_data"
    }
   ],
   "source": [
    "bandwidth = estimate_bandwidth(output_tsne, quantile = .1)\n",
    "ms = MeanShift(bandwidth = bandwidth + .3)\n",
    "ms.fit(output_tsne)\n",
    "labels = ms.labels_\n",
    "cluster_centers = ms.cluster_centers_\n",
    "clusters = labels.max()+1\n",
    "\n",
    "color = cycle('rgbcmyk')\n",
    "for i, col in zip(range(clusters),color):\n",
    "  my_member = labels == i\n",
    "  cluster_center = cluster_centers[i]\n",
    "  plt.plot(output_tsne[my_member,0], output_tsne[my_member,1],col + '.')\n",
    "  plt.plot(cluster_center[0], cluster_center[1], 'o', \n",
    "           markerfacecolor = col, markeredgecolor = 'k', markersize = 12)\n",
    "print('Estimated clusters : %d' % clusters)\n",
    "  \n",
    "plt.show()"
   ]
  }
 ],
 "metadata": {
  "interpreter": {
   "hash": "234bc22530c6e9f994d25fc4d5b770d442ac956874f8a3bd69073acd29694a85"
  },
  "kernelspec": {
   "display_name": "Python 3.9.7 ('base')",
   "language": "python",
   "name": "python3"
  },
  "language_info": {
   "codemirror_mode": {
    "name": "ipython",
    "version": 3
   },
   "file_extension": ".py",
   "mimetype": "text/x-python",
   "name": "python",
   "nbconvert_exporter": "python",
   "pygments_lexer": "ipython3",
   "version": "3.9.7"
  },
  "orig_nbformat": 4
 },
 "nbformat": 4,
 "nbformat_minor": 2
}
